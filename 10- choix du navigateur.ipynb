{
 "cells": [
  {
   "cell_type": "code",
   "execution_count": 10,
   "id": "a326eac6",
   "metadata": {},
   "outputs": [],
   "source": [
    "# import de selenium, la télécommande de navigateur\n",
    "from selenium import webdriver\n",
    "\n",
    "def navigateur_chrome(headless=False):\n",
    "    chrome_options = webdriver.ChromeOptions()\n",
    "    if headless:\n",
    "        chrome_options.add_argument(\"--headless\")\n",
    "    chrome_options.add_argument('--window-size=1600x1600')\n",
    "    prefs = {}\n",
    "    prefs = {\"profile.managed_default_content_settings.images\":2}\n",
    "    chrome_options.add_experimental_option(\"prefs\",prefs)\n",
    "    browser = webdriver.Chrome(chrome_options=chrome_options)\n",
    "    return browser\n",
    "\n",
    "def navigateur_firefox(headless=False):\n",
    "    options = webdriver.FirefoxOptions()\n",
    "    if headless:\n",
    "        options.add_argument(\"--headless\")\n",
    "        print(\"headless\")\n",
    "    browser = webdriver.Firefox(options=options)\n",
    "    return browser\n",
    "\n",
    "\n",
    "\n"
   ]
  },
  {
   "cell_type": "code",
   "execution_count": 3,
   "id": "8c0a20b1",
   "metadata": {},
   "outputs": [
    {
     "name": "stderr",
     "output_type": "stream",
     "text": [
      "f:\\python37\\lib\\site-packages\\ipykernel_launcher.py:12: DeprecationWarning: use options instead of chrome_options\n",
      "  if sys.path[0] == '':\n"
     ]
    }
   ],
   "source": [
    "driver = navigateur_chrome()\n",
    "driver.get(\"https://www.boulanger.com\")\n"
   ]
  },
  {
   "cell_type": "code",
   "execution_count": 4,
   "id": "e350e4b6",
   "metadata": {},
   "outputs": [],
   "source": [
    "driver.quit()"
   ]
  },
  {
   "cell_type": "code",
   "execution_count": 11,
   "id": "3ce9488d",
   "metadata": {},
   "outputs": [
    {
     "name": "stdout",
     "output_type": "stream",
     "text": [
      "headless\n",
      "Boulanger © - Electroménager & Multimédia\n"
     ]
    }
   ],
   "source": [
    "driver = navigateur_firefox(headless=True)\n",
    "driver.get(\"https://www.boulanger.com\")\n",
    "print(driver.title)\n",
    "driver.save_screenshot('./boulanger.png')\n",
    "driver.quit()"
   ]
  },
  {
   "cell_type": "code",
   "execution_count": null,
   "id": "ad9f11b1",
   "metadata": {},
   "outputs": [],
   "source": []
  }
 ],
 "metadata": {
  "kernelspec": {
   "display_name": "Python 3",
   "language": "python",
   "name": "python3"
  },
  "language_info": {
   "codemirror_mode": {
    "name": "ipython",
    "version": 3
   },
   "file_extension": ".py",
   "mimetype": "text/x-python",
   "name": "python",
   "nbconvert_exporter": "python",
   "pygments_lexer": "ipython3",
   "version": "3.7.1"
  }
 },
 "nbformat": 4,
 "nbformat_minor": 5
}
