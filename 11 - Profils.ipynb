{
 "cells": [
  {
   "cell_type": "code",
   "execution_count": 36,
   "id": "b79cfd7a",
   "metadata": {},
   "outputs": [],
   "source": [
    "## au préalable, créer un profil en suivant les indications du site de firefox\n",
    "# https://support.mozilla.org/fr/kb/gestionnaire-profils-creer-supprimer-changer-profils-firefox\n",
    "\n",
    "from selenium import webdriver\n",
    "\n",
    "url = \"https://yopmail.com/fr/wm\"\n",
    "fp = webdriver.FirefoxProfile(\"D:\\\\OneDrive\\\\datascience\\\\notebooks\\\\DIVID 2021\\\\2021-Selenium\\\\profile\")\n",
    "\n",
    "driver = webdriver.Firefox(fp)\n",
    "driver.get(url)\n"
   ]
  },
  {
   "cell_type": "code",
   "execution_count": 35,
   "id": "8ae222e8",
   "metadata": {},
   "outputs": [],
   "source": [
    "driver.quit()"
   ]
  },
  {
   "cell_type": "code",
   "execution_count": null,
   "id": "e1abd3f1",
   "metadata": {},
   "outputs": [],
   "source": []
  }
 ],
 "metadata": {
  "kernelspec": {
   "display_name": "Python 3",
   "language": "python",
   "name": "python3"
  },
  "language_info": {
   "codemirror_mode": {
    "name": "ipython",
    "version": 3
   },
   "file_extension": ".py",
   "mimetype": "text/x-python",
   "name": "python",
   "nbconvert_exporter": "python",
   "pygments_lexer": "ipython3",
   "version": "3.7.1"
  }
 },
 "nbformat": 4,
 "nbformat_minor": 5
}
