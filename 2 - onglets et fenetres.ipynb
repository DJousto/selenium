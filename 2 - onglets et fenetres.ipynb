{
 "cells": [
  {
   "cell_type": "code",
   "execution_count": 1,
   "id": "bfb69546",
   "metadata": {},
   "outputs": [
    {
     "data": {
      "text/plain": [
       "'DIVID'"
      ]
     },
     "execution_count": 1,
     "metadata": {},
     "output_type": "execute_result"
    }
   ],
   "source": [
    "from selenium import webdriver\n",
    "\n",
    "driver = webdriver.Chrome()\n",
    "\n",
    "# ouverture d'un premier lien\n",
    "driver.get(\"https://www.divid.fr\")\n",
    "\n",
    "# ouverture d'un lien dans un nouvel onglet\n",
    "driver.execute_script(\"window.open('https://www.boursorama.com','_blank')\")\n",
    "\n",
    "# néanmoins le driver est resté sur l'onglet initial\n",
    "driver.title"
   ]
  },
  {
   "cell_type": "code",
   "execution_count": null,
   "id": "64828fb0",
   "metadata": {},
   "outputs": [],
   "source": [
    "driver.switch_to_frame"
   ]
  },
  {
   "cell_type": "code",
   "execution_count": 6,
   "id": "e970e6a2",
   "metadata": {},
   "outputs": [],
   "source": [
    "# sauvegarde de l'onglet courant\n",
    "onglet_divid = driver.current_window_handle"
   ]
  },
  {
   "cell_type": "code",
   "execution_count": 7,
   "id": "17df2774",
   "metadata": {},
   "outputs": [
    {
     "data": {
      "text/plain": [
       "['CDwindow-516974C057CCFD9363C5D47BEF986E18',\n",
       " 'CDwindow-8877BBC3A3D13851D6A52B8124C2CA3E']"
      ]
     },
     "execution_count": 7,
     "metadata": {},
     "output_type": "execute_result"
    }
   ],
   "source": [
    "driver.window_handles"
   ]
  },
  {
   "cell_type": "code",
   "execution_count": 8,
   "id": "4eadbcc3",
   "metadata": {},
   "outputs": [],
   "source": [
    "# on bascule vers le nouvel onglet\n",
    "for window_handle in driver.window_handles:\n",
    "    if window_handle != onglet_divid:\n",
    "        driver.switch_to.window(window_handle)\n",
    "        break"
   ]
  },
  {
   "cell_type": "code",
   "execution_count": 9,
   "id": "d423a3f3",
   "metadata": {},
   "outputs": [
    {
     "data": {
      "text/plain": [
       "'Google'"
      ]
     },
     "execution_count": 9,
     "metadata": {},
     "output_type": "execute_result"
    }
   ],
   "source": [
    "# le driver est passé sur le nouvel onglet\n",
    "driver.title"
   ]
  },
  {
   "cell_type": "code",
   "execution_count": 10,
   "id": "0e887504",
   "metadata": {},
   "outputs": [],
   "source": [
    "# fermeture de l'onglet courant\n",
    "driver.close()"
   ]
  },
  {
   "cell_type": "code",
   "execution_count": 12,
   "id": "6aea8180",
   "metadata": {},
   "outputs": [],
   "source": [
    "# attention il faut indiquer aussi au driver de revenir à l'onglet initial\n",
    "driver.switch_to.window(onglet_divid)"
   ]
  },
  {
   "cell_type": "code",
   "execution_count": 13,
   "id": "0102a4f8",
   "metadata": {},
   "outputs": [
    {
     "data": {
      "text/plain": [
       "'DIVID'"
      ]
     },
     "execution_count": 13,
     "metadata": {},
     "output_type": "execute_result"
    }
   ],
   "source": [
    "driver.title"
   ]
  },
  {
   "cell_type": "code",
   "execution_count": 14,
   "id": "9cc2aa35",
   "metadata": {},
   "outputs": [],
   "source": [
    "driver.quit()"
   ]
  },
  {
   "cell_type": "code",
   "execution_count": null,
   "id": "176bcd52",
   "metadata": {},
   "outputs": [],
   "source": []
  }
 ],
 "metadata": {
  "kernelspec": {
   "display_name": "Python 3",
   "language": "python",
   "name": "python3"
  },
  "language_info": {
   "codemirror_mode": {
    "name": "ipython",
    "version": 3
   },
   "file_extension": ".py",
   "mimetype": "text/x-python",
   "name": "python",
   "nbconvert_exporter": "python",
   "pygments_lexer": "ipython3",
   "version": "3.7.1"
  }
 },
 "nbformat": 4,
 "nbformat_minor": 5
}
