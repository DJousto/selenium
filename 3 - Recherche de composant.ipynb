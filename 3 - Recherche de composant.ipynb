{
 "cells": [
  {
   "cell_type": "code",
   "execution_count": 1,
   "id": "66dcab30",
   "metadata": {},
   "outputs": [],
   "source": [
    "from selenium import webdriver\n",
    "\n",
    "driver = webdriver.Chrome()\n",
    "\n",
    "driver.get(\"https://www.bebe9.com/\")\n",
    "\n"
   ]
  },
  {
   "cell_type": "code",
   "execution_count": 2,
   "id": "d6a9e23b",
   "metadata": {},
   "outputs": [],
   "source": [
    "bouton = driver.find_element_by_xpath('//button[contains(text(),\"Tout accepter\")]')"
   ]
  },
  {
   "cell_type": "code",
   "execution_count": 3,
   "id": "5b1386a8",
   "metadata": {},
   "outputs": [
    {
     "data": {
      "text/plain": [
       "'tc-reset-css tc-privacy-button'"
      ]
     },
     "execution_count": 3,
     "metadata": {},
     "output_type": "execute_result"
    }
   ],
   "source": [
    "bouton.get_attribute('class')"
   ]
  },
  {
   "cell_type": "code",
   "execution_count": 9,
   "id": "5b29bb99",
   "metadata": {},
   "outputs": [
    {
     "data": {
      "text/plain": [
       "5"
      ]
     },
     "execution_count": 9,
     "metadata": {},
     "output_type": "execute_result"
    }
   ],
   "source": [
    "# autre méthodes de recherche, attention il faut vérifier que le résultat est unique et/ou\n",
    "# correspond bien à l'élément recherché\n",
    "\n",
    "# par nom de classe\n",
    "len(driver.find_elements_by_class_name('tc-privacy-button'))"
   ]
  },
  {
   "cell_type": "code",
   "execution_count": 11,
   "id": "fb3660a2",
   "metadata": {},
   "outputs": [
    {
     "data": {
      "text/plain": [
       "5"
      ]
     },
     "execution_count": 11,
     "metadata": {},
     "output_type": "execute_result"
    }
   ],
   "source": [
    "# par selecteur css\n",
    "len(driver.find_elements_by_css_selector('button.tc-privacy-button'))"
   ]
  },
  {
   "cell_type": "code",
   "execution_count": 13,
   "id": "427e82e5",
   "metadata": {},
   "outputs": [
    {
     "data": {
      "text/plain": [
       "2"
      ]
     },
     "execution_count": 13,
     "metadata": {},
     "output_type": "execute_result"
    }
   ],
   "source": [
    "# par id\n",
    "len(driver.find_elements_by_id('footer_tc_privacy_button_3'))"
   ]
  },
  {
   "cell_type": "code",
   "execution_count": 5,
   "id": "87fa472c",
   "metadata": {},
   "outputs": [],
   "source": [
    "bouton.click()"
   ]
  },
  {
   "cell_type": "code",
   "execution_count": null,
   "id": "cac0e39a",
   "metadata": {},
   "outputs": [],
   "source": []
  }
 ],
 "metadata": {
  "kernelspec": {
   "display_name": "Python 3",
   "language": "python",
   "name": "python3"
  },
  "language_info": {
   "codemirror_mode": {
    "name": "ipython",
    "version": 3
   },
   "file_extension": ".py",
   "mimetype": "text/x-python",
   "name": "python",
   "nbconvert_exporter": "python",
   "pygments_lexer": "ipython3",
   "version": "3.7.1"
  }
 },
 "nbformat": 4,
 "nbformat_minor": 5
}
