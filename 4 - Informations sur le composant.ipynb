{
 "cells": [
  {
   "cell_type": "code",
   "execution_count": 3,
   "id": "66dcab30",
   "metadata": {},
   "outputs": [],
   "source": [
    "from selenium import webdriver\n",
    "\n",
    "driver = webdriver.Chrome()\n",
    "\n",
    "driver.get(\"https://www.bebe9.com/\")\n",
    "\n"
   ]
  },
  {
   "cell_type": "code",
   "execution_count": 4,
   "id": "d6a9e23b",
   "metadata": {},
   "outputs": [],
   "source": [
    "bouton = driver.find_element_by_xpath('//button[contains(text(),\"Tout accepter\")]')"
   ]
  },
  {
   "cell_type": "code",
   "execution_count": 5,
   "id": "d0b98e04",
   "metadata": {},
   "outputs": [
    {
     "data": {
      "text/plain": [
       "'tc-reset-css tc-privacy-button'"
      ]
     },
     "execution_count": 5,
     "metadata": {},
     "output_type": "execute_result"
    }
   ],
   "source": [
    "bouton.get_attribute('class')"
   ]
  },
  {
   "cell_type": "code",
   "execution_count": 6,
   "id": "87fa472c",
   "metadata": {},
   "outputs": [
    {
     "data": {
      "text/plain": [
       "'Tout accepter'"
      ]
     },
     "execution_count": 6,
     "metadata": {},
     "output_type": "execute_result"
    }
   ],
   "source": [
    "bouton.text"
   ]
  },
  {
   "cell_type": "code",
   "execution_count": 7,
   "id": "cac0e39a",
   "metadata": {},
   "outputs": [
    {
     "data": {
      "text/plain": [
       "True"
      ]
     },
     "execution_count": 7,
     "metadata": {},
     "output_type": "execute_result"
    }
   ],
   "source": [
    "bouton.is_displayed()"
   ]
  },
  {
   "cell_type": "code",
   "execution_count": 9,
   "id": "34f1c500",
   "metadata": {},
   "outputs": [
    {
     "data": {
      "text/plain": [
       "'Tout accepter'"
      ]
     },
     "execution_count": 9,
     "metadata": {},
     "output_type": "execute_result"
    }
   ],
   "source": [
    "bouton.get_attribute('innerHTML')"
   ]
  },
  {
   "cell_type": "code",
   "execution_count": 12,
   "id": "1264c54c",
   "metadata": {},
   "outputs": [
    {
     "data": {
      "text/plain": [
       "{'height': 45, 'width': 220, 'x': 857, 'y': 1138}"
      ]
     },
     "execution_count": 12,
     "metadata": {},
     "output_type": "execute_result"
    }
   ],
   "source": [
    "bouton.rect"
   ]
  },
  {
   "cell_type": "code",
   "execution_count": 13,
   "id": "ae335e94",
   "metadata": {},
   "outputs": [
    {
     "data": {
      "text/plain": [
       "True"
      ]
     },
     "execution_count": 13,
     "metadata": {},
     "output_type": "execute_result"
    }
   ],
   "source": [
    "bouton.is_displayed()"
   ]
  },
  {
   "cell_type": "code",
   "execution_count": 10,
   "id": "0e3f2f36",
   "metadata": {},
   "outputs": [],
   "source": [
    "fenetre = driver.find_element_by_id('modals')"
   ]
  },
  {
   "cell_type": "code",
   "execution_count": 11,
   "id": "3e2014c2",
   "metadata": {},
   "outputs": [
    {
     "data": {
      "text/plain": [
       "'\\n    <div class=\"modal fade\" id=\"product-quick-view\" tabindex=\"-1\" role=\"dialog\">\\n        \\n    </div>\\n    <div class=\"modal fade\" id=\"product-reservation\" tabindex=\"-1\" role=\"dialog\">\\n                \\n    </div>\\n    <div class=\"modal fade\" id=\"store-pick-up\" tabindex=\"-1\" role=\"dialog\">\\n        <div class=\"modal-dialog\" role=\"document\">\\n            <button type=\"button\" class=\"close-quick-view\" data-dismiss=\"modal\"><img src=\"/images/icons/cross.svg\" width=\"20\" alt=\"Fermer la fenêtre\"></button>\\n            <div class=\"modal-content\">\\n                <div class=\"modal-body\">\\n                    <div class=\"store-pick-up\">\\n        <p>Veuillez choisir un magasin pour voir la disponibilité du stock :</p>\\n    <form id=\"store_pickup\" class=\"has-validation-callback\">\\n        <div class=\"row\">\\n            <div class=\"col-md-6\">\\n                <select name=\"store\" id=\"store\" class=\"form-control\" onchange=\"getStoreInfos(this);\"><optgroup label=\"France\"><option value=\"oyonnax\">01 - OYONNAX</option>\\n<option value=\"thoiry\">01 - THOIRY</option>\\n<option value=\"saint-quentin-fayet\">02 - SAINT-QUENTIN / FAYET</option>\\n<option value=\"montlucon-premilhat\">03 - MONTLUÇON / PREMILHAT</option>\\n<option value=\"manosque\">04 - MANOSQUE</option>\\n<option value=\"gap\">05 - GAP</option>\\n<option value=\"cannes-mandelieu\">06 - CANNES / MANDELIEU</option>\\n<option value=\"aubenas\">07 - AUBENAS</option>\\n<option value=\"bebe9-saint-parres\">10 - SAINT-PARRES</option>\\n<option value=\"narbonne\">11 - NARBONNE</option>\\n<option value=\"saint-affrique\">12 - SAINT-AFFRIQUE</option>\\n<option value=\"rodez-onet-le-chateau\">12 - RODEZ / ONET LE CHÂTEAU</option>\\n<option value=\"aix-les-milles\">13 - AIX LES MILLES</option>\\n<option value=\"caen-mondeville\">14 - CAEN / MONDEVILLE</option>\\n<option value=\"aurillac\">15 - AURILLAC</option>\\n<option value=\"angouleme-champniers\">16 - ANGOULÊME / CHAMPNIERS</option>\\n<option value=\"brive-malemort\">19 - BRIVE / MALEMORT</option>\\n<option value=\"ajaccio-mezzavia\">20 - AJACCIO / MEZZAVIA</option>\\n<option value=\"furiani\">20 - FURIANI</option>\\n<option value=\"dijon-quetigny\">21 - DIJON / QUÉTIGNY</option>\\n<option value=\"besancon\">25 - BESANÇON</option>\\n<option value=\"pontarlier\">25 - PONTARLIER</option>\\n<option value=\"valence\">26 - VALENCE</option>\\n<option value=\"montelimar\">26 - MONTÉLIMAR</option>\\n<option value=\"chartres-barjouville\">28 - CHARTRES / BARJOUVILLE</option>\\n<option value=\"brest\">29 - BREST</option>\\n<option value=\"ales\">30 - ALES</option>\\n<option value=\"portet-sur-garonne\">31 - PORTET-SUR-GARONNE</option>\\n<option value=\"merignac\">33 - MÉRIGNAC</option>\\n<option value=\"beziers\">34 - BEZIERS</option>\\n<option value=\"balaruc-le-vieux\">34 - BALARUC-LE-VIEUX</option>\\n<option value=\"rennes-saint-gregoire\">35 - RENNES / SAINT-GRÉGOIRE</option>\\n<option value=\"tours\">37 - TOURS</option>\\n<option value=\"montmorot\">39 - MONTMOROT / LONS LE SAUNIER</option>\\n<option value=\"saint-etienne-villars\">42 - SAINT-ÉTIENNE / VILLARS</option>\\n<option value=\"le-puy-aiguilhe\">43 - LE PUY / AIGUILHE</option>\\n<option value=\"mende\">48 - MENDE</option>\\n<option value=\"cholet-nord-est\">49 - CHOLET NORD-EST</option>\\n<option value=\"saumur-distre\">49 - SAUMUR /DISTRÉ</option>\\n<option value=\"mayenne\">53 - MAYENNE</option>\\n<option value=\"nancy\">54 - NANCY / ESSEY-LES-NANCY</option>\\n<option value=\"lorient\">56 - LORIENT</option>\\n<option value=\"vannes-sene\">56 - VANNES / SENE</option>\\n<option value=\"thionville\">57 - THIONVILLE</option>\\n<option value=\"sarreguemines\">57 - SARREGUEMINES</option>\\n<option value=\"merlebach-freyming\">57 - FAREBERSVILLER</option>\\n<option value=\"flers\">61 - FLERS</option>\\n<option value=\"arras\">62 - ARRAS</option>\\n<option value=\"clermont-ferrand\">63 - CLERMONT-FERRAND</option>\\n<option value=\"strasbourg-sud-geispolsheim\">67 - STRASBOURG SUD / GEISPOLSHEIM</option>\\n<option value=\"strasbourg-nord-vendenheim\">67 - STRASBOURG NORD / VENDENHEIM</option>\\n<option value=\"saint-louis-hesingue\">68 - SAINT-LOUIS/HÉSINGUE</option>\\n<option value=\"lyon\">69 - LYON</option>\\n<option value=\"givors\">69 - GIVORS</option>\\n<option value=\"bebe9-saint-bonnet-de-mure\">69 - SAINT BONNET DE MURE </option>\\n<option value=\"vesoul\">70 - VESOUL</option>\\n<option value=\"macon\">71 - MACON</option>\\n<option value=\"la-chapelle-saint-aubin\">72 - LA CHAPELLE-SAINT-AUBIN</option>\\n<option value=\"chambery\">73 - CHAMBÉRY</option>\\n<option value=\"anthy-sur-leman\">74 - ANTHY</option>\\n<option value=\"amphion-les-bains\">74 - AMPHION-LES-BAINS</option>\\n<option value=\"annecy-seynod\">74 - ANNECY / SEYNOD</option>\\n<option value=\"sallanches-d5ca47b6-9951-4b88-b9af-1b98a57e3fea\">74 - SALLANCHES</option>\\n<option value=\"rouen-barentin\">76 - ROUEN / BARENTIN</option>\\n<option value=\"rouen-tourville-la-riviere\">76 - ROUEN / TOURVILLE-LA-RIVIÈRE </option>\\n<option value=\"le-havre-gonfreville\">76 - LE HAVRE / GONFREVILLE L\\'ORCHER</option>\\n<option value=\"claye-souilly\">77 - CLAYE-SOUILLY</option>\\n<option value=\"albi\">81 - ALBI</option>\\n<option value=\"frejus-puget-sur-argens\">83 - FRÉJUS / PUGET SUR ARGENS</option>\\n<option value=\"le-pontet-sorgues\">84 - LE PONTET - SORGUES</option>\\n<option value=\"la-roche-sur-yon\">85 - LA-ROCHE-SUR-YON</option>\\n<option value=\"poitiers\">86 - POITIERS</option>\\n<option value=\"limoges-feytiat\">87 - LIMOGES/FEYTIAT</option>\\n<option value=\"saint-ame\">88 - SAINT-AMÉ</option>\\n<option value=\"contrexeville\">88 - CONTREXEVILLE</option>\\n<option value=\"auxerre\">89 - AUXERRE</option>\\n<option value=\"sainte-genevieve-des-bois\">91 - SAINTE-GENEVIEVE-DES-BOIS</option>\\n<option value=\"rosny\">93 - ROSNY</option>\\n<option value=\"kremlin-bicetre\">94 - KREMLIN BICETRE</option>\\n<option value=\"herblay-montigny-les-cormeilles\">95 - HERBLAY / MONTIGNY LES CORMEILLES</option>\\n<option value=\"aeroville\">95 - AEROVILLE</option>\\n<option value=\"saint-martin-antilles\">970 - SAINT-MARTIN/ANTILLES</option>\\n<option value=\"baie-mahault\">971 - BAIE MAHAULT</option>\\n<option value=\"les-abymes\">971 - LES ABYMES</option>\\n<option value=\"fort-de-france\">972 - FORT DE FRANCE</option>\\n<option value=\"cayenne\">973 - CAYENNE</option>\\n<option value=\"saint-pierre\">974 - SAINT PIERRE / LA REUNION</option>\\n<option value=\"saint-andre\">974 - SAINT ANDRE / LA REUNION</option>\\n<option value=\"mayotte\">976 - MAYOTTE</option>\\n<option value=\"papeete-tahiti\">987 - PAPEETE / TAHITI</option>\\n<option value=\"noumea\">988 - NOUMEA</option></optgroup></select>\\n            </div>\\n            <div class=\"col-md-6\" style=\"display:none\">\\n                    <div class=\"alert alert-danger\" role=\"alert\">\\n                        <span><i class=\"fa fa-exclamation-triangle\" aria-hidden=\"true\"></i> Produit non disponible dans ce magasin</span>\\n                    </div>\\n            </div>\\n        </div>\\n    </form>\\n    <div class=\"row\">\\n        <div class=\"col-md-6\" id=\"store-infos\">\\n            &nbsp;\\n        </div>\\n        <div class=\"store-controls col-md-6 text-right\">\\n            <a class=\"btn btn-cart\" href=\"#\" role=\"button\"><i class=\"fa fa-check\" aria-hidden=\"true\"></i> <span>Choisir ce magasin pour le retrait 2h</span></a>\\n        </div>\\n    </div>\\n</div>\\n\\n                </div>\\n            </div>\\n        </div>\\n    </div>\\n    <div class=\"modal fade\" id=\"store-find\" tabindex=\"-1\" role=\"dialog\">\\n        <div class=\"modal-dialog\" role=\"document\" style=\"width:400px\">\\n            <button type=\"button\" class=\"close-quick-view\" data-dismiss=\"modal\"><img src=\"/images/icons/cross.svg\" width=\"20\" alt=\"Fermer la fenêtre\"></button>\\n            <div class=\"modal-content\">\\n                <div class=\"modal-body\">\\n                    <div class=\"store-pick-up\">\\n    <div class=\"h3\">découvrez nos magasins !</div>\\n    <p>Trouvez le magasin le plus proche de chez vous !</p>\\n\\n    <form id=\"store_pickup\" class=\"has-validation-callback\">\\n        <div class=\"row\">\\n            <div class=\"col-md-12\">\\n                <select name=\"store\" id=\"store\" class=\"form-control\" onchange=\"javascript: document.location = \\'/magasin/\\'+$(this).closest(\\'select\\').val()+\\'.html\\'\"><option value=\"\">Veuillez sélectionner votre magasin</option><optgroup label=\"France\"><option value=\"oyonnax\">01 - OYONNAX</option>\\n<option value=\"thoiry\">01 - THOIRY</option>\\n<option value=\"saint-quentin-fayet\">02 - SAINT-QUENTIN / FAYET</option>\\n<option value=\"montlucon-premilhat\">03 - MONTLUÇON / PREMILHAT</option>\\n<option value=\"manosque\">04 - MANOSQUE</option>\\n<option value=\"gap\">05 - GAP</option>\\n<option value=\"cannes-mandelieu\">06 - CANNES / MANDELIEU</option>\\n<option value=\"aubenas\">07 - AUBENAS</option>\\n<option value=\"bebe9-saint-parres\">10 - SAINT-PARRES</option>\\n<option value=\"narbonne\">11 - NARBONNE</option>\\n<option value=\"saint-affrique\">12 - SAINT-AFFRIQUE</option>\\n<option value=\"rodez-onet-le-chateau\">12 - RODEZ / ONET LE CHÂTEAU</option>\\n<option value=\"aix-les-milles\">13 - AIX LES MILLES</option>\\n<option value=\"caen-mondeville\">14 - CAEN / MONDEVILLE</option>\\n<option value=\"aurillac\">15 - AURILLAC</option>\\n<option value=\"angouleme-champniers\">16 - ANGOULÊME / CHAMPNIERS</option>\\n<option value=\"brive-malemort\">19 - BRIVE / MALEMORT</option>\\n<option value=\"ajaccio-mezzavia\">20 - AJACCIO / MEZZAVIA</option>\\n<option value=\"furiani\">20 - FURIANI</option>\\n<option value=\"dijon-quetigny\">21 - DIJON / QUÉTIGNY</option>\\n<option value=\"besancon\">25 - BESANÇON</option>\\n<option value=\"pontarlier\">25 - PONTARLIER</option>\\n<option value=\"valence\">26 - VALENCE</option>\\n<option value=\"montelimar\">26 - MONTÉLIMAR</option>\\n<option value=\"chartres-barjouville\">28 - CHARTRES / BARJOUVILLE</option>\\n<option value=\"brest\">29 - BREST</option>\\n<option value=\"ales\">30 - ALES</option>\\n<option value=\"portet-sur-garonne\">31 - PORTET-SUR-GARONNE</option>\\n<option value=\"merignac\">33 - MÉRIGNAC</option>\\n<option value=\"beziers\">34 - BEZIERS</option>\\n<option value=\"balaruc-le-vieux\">34 - BALARUC-LE-VIEUX</option>\\n<option value=\"rennes-saint-gregoire\">35 - RENNES / SAINT-GRÉGOIRE</option>\\n<option value=\"tours\">37 - TOURS</option>\\n<option value=\"montmorot\">39 - MONTMOROT / LONS LE SAUNIER</option>\\n<option value=\"saint-etienne-villars\">42 - SAINT-ÉTIENNE / VILLARS</option>\\n<option value=\"le-puy-aiguilhe\">43 - LE PUY / AIGUILHE</option>\\n<option value=\"mende\">48 - MENDE</option>\\n<option value=\"cholet-nord-est\">49 - CHOLET NORD-EST</option>\\n<option value=\"saumur-distre\">49 - SAUMUR /DISTRÉ</option>\\n<option value=\"mayenne\">53 - MAYENNE</option>\\n<option value=\"nancy\">54 - NANCY / ESSEY-LES-NANCY</option>\\n<option value=\"lorient\">56 - LORIENT</option>\\n<option value=\"vannes-sene\">56 - VANNES / SENE</option>\\n<option value=\"thionville\">57 - THIONVILLE</option>\\n<option value=\"sarreguemines\">57 - SARREGUEMINES</option>\\n<option value=\"merlebach-freyming\">57 - FAREBERSVILLER</option>\\n<option value=\"flers\">61 - FLERS</option>\\n<option value=\"arras\">62 - ARRAS</option>\\n<option value=\"clermont-ferrand\">63 - CLERMONT-FERRAND</option>\\n<option value=\"strasbourg-sud-geispolsheim\">67 - STRASBOURG SUD / GEISPOLSHEIM</option>\\n<option value=\"strasbourg-nord-vendenheim\">67 - STRASBOURG NORD / VENDENHEIM</option>\\n<option value=\"saint-louis-hesingue\">68 - SAINT-LOUIS/HÉSINGUE</option>\\n<option value=\"lyon\">69 - LYON</option>\\n<option value=\"givors\">69 - GIVORS</option>\\n<option value=\"bebe9-saint-bonnet-de-mure\">69 - SAINT BONNET DE MURE </option>\\n<option value=\"vesoul\">70 - VESOUL</option>\\n<option value=\"macon\">71 - MACON</option>\\n<option value=\"la-chapelle-saint-aubin\">72 - LA CHAPELLE-SAINT-AUBIN</option>\\n<option value=\"chambery\">73 - CHAMBÉRY</option>\\n<option value=\"anthy-sur-leman\">74 - ANTHY</option>\\n<option value=\"amphion-les-bains\">74 - AMPHION-LES-BAINS</option>\\n<option value=\"annecy-seynod\">74 - ANNECY / SEYNOD</option>\\n<option value=\"sallanches-d5ca47b6-9951-4b88-b9af-1b98a57e3fea\">74 - SALLANCHES</option>\\n<option value=\"rouen-barentin\">76 - ROUEN / BARENTIN</option>\\n<option value=\"rouen-tourville-la-riviere\">76 - ROUEN / TOURVILLE-LA-RIVIÈRE </option>\\n<option value=\"le-havre-gonfreville\">76 - LE HAVRE / GONFREVILLE L\\'ORCHER</option>\\n<option value=\"claye-souilly\">77 - CLAYE-SOUILLY</option>\\n<option value=\"albi\">81 - ALBI</option>\\n<option value=\"frejus-puget-sur-argens\">83 - FRÉJUS / PUGET SUR ARGENS</option>\\n<option value=\"le-pontet-sorgues\">84 - LE PONTET - SORGUES</option>\\n<option value=\"la-roche-sur-yon\">85 - LA-ROCHE-SUR-YON</option>\\n<option value=\"poitiers\">86 - POITIERS</option>\\n<option value=\"limoges-feytiat\">87 - LIMOGES/FEYTIAT</option>\\n<option value=\"saint-ame\">88 - SAINT-AMÉ</option>\\n<option value=\"contrexeville\">88 - CONTREXEVILLE</option>\\n<option value=\"auxerre\">89 - AUXERRE</option>\\n<option value=\"sainte-genevieve-des-bois\">91 - SAINTE-GENEVIEVE-DES-BOIS</option>\\n<option value=\"rosny\">93 - ROSNY</option>\\n<option value=\"kremlin-bicetre\">94 - KREMLIN BICETRE</option>\\n<option value=\"herblay-montigny-les-cormeilles\">95 - HERBLAY / MONTIGNY LES CORMEILLES</option>\\n<option value=\"aeroville\">95 - AEROVILLE</option>\\n<option value=\"saint-martin-antilles\">970 - SAINT-MARTIN/ANTILLES</option>\\n<option value=\"baie-mahault\">971 - BAIE MAHAULT</option>\\n<option value=\"les-abymes\">971 - LES ABYMES</option>\\n<option value=\"fort-de-france\">972 - FORT DE FRANCE</option>\\n<option value=\"cayenne\">973 - CAYENNE</option>\\n<option value=\"saint-pierre\">974 - SAINT PIERRE / LA REUNION</option>\\n<option value=\"saint-andre\">974 - SAINT ANDRE / LA REUNION</option>\\n<option value=\"mayotte\">976 - MAYOTTE</option>\\n<option value=\"papeete-tahiti\">987 - PAPEETE / TAHITI</option>\\n<option value=\"noumea\">988 - NOUMEA</option></optgroup></select>\\n            </div>\\n        </div>\\n    </form>\\n</div>\\n\\n                </div>\\n            </div>\\n        </div>\\n    </div>\\n'"
      ]
     },
     "execution_count": 11,
     "metadata": {},
     "output_type": "execute_result"
    }
   ],
   "source": [
    "fenetre.get_attribute('innerHTML')"
   ]
  },
  {
   "cell_type": "code",
   "execution_count": null,
   "id": "9a011ebe",
   "metadata": {},
   "outputs": [],
   "source": []
  }
 ],
 "metadata": {
  "kernelspec": {
   "display_name": "Python 3",
   "language": "python",
   "name": "python3"
  },
  "language_info": {
   "codemirror_mode": {
    "name": "ipython",
    "version": 3
   },
   "file_extension": ".py",
   "mimetype": "text/x-python",
   "name": "python",
   "nbconvert_exporter": "python",
   "pygments_lexer": "ipython3",
   "version": "3.7.1"
  }
 },
 "nbformat": 4,
 "nbformat_minor": 5
}
