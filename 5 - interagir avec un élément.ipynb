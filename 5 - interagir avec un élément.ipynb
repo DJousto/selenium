{
 "cells": [
  {
   "cell_type": "code",
   "execution_count": 1,
   "id": "66dcab30",
   "metadata": {},
   "outputs": [],
   "source": [
    "from selenium import webdriver\n",
    "\n",
    "driver = webdriver.Chrome()\n",
    "\n",
    "driver.get(\"https://www.bebe9.com/\")\n",
    "\n"
   ]
  },
  {
   "cell_type": "code",
   "execution_count": 2,
   "id": "d6a9e23b",
   "metadata": {},
   "outputs": [],
   "source": [
    "bouton = driver.find_element_by_xpath('//button[contains(text(),\"Tout accepter\")]')"
   ]
  },
  {
   "cell_type": "code",
   "execution_count": 3,
   "id": "12bfdab6",
   "metadata": {},
   "outputs": [],
   "source": [
    "bouton.click()"
   ]
  },
  {
   "cell_type": "code",
   "execution_count": 4,
   "id": "b8c56c13",
   "metadata": {},
   "outputs": [],
   "source": [
    "recherche = driver.find_element_by_id('query')"
   ]
  },
  {
   "cell_type": "code",
   "execution_count": 5,
   "id": "92b7a435",
   "metadata": {},
   "outputs": [],
   "source": [
    "from selenium.webdriver.common.keys import Keys\n",
    "\n",
    "recherche.send_keys(\"biberon\")\n",
    "recherche.send_keys(Keys.ENTER)\n"
   ]
  },
  {
   "cell_type": "code",
   "execution_count": 6,
   "id": "cfbe8e8c",
   "metadata": {},
   "outputs": [
    {
     "data": {
      "text/plain": [
       "True"
      ]
     },
     "execution_count": 6,
     "metadata": {},
     "output_type": "execute_result"
    }
   ],
   "source": [
    "driver.save_screenshot('./image.png')"
   ]
  },
  {
   "cell_type": "code",
   "execution_count": 8,
   "id": "b7b57096",
   "metadata": {},
   "outputs": [
    {
     "data": {
      "text/plain": [
       "True"
      ]
     },
     "execution_count": 8,
     "metadata": {},
     "output_type": "execute_result"
    }
   ],
   "source": [
    "'172' in driver.find_element_by_id('categ-count').text"
   ]
  },
  {
   "cell_type": "code",
   "execution_count": null,
   "id": "16ecab66",
   "metadata": {},
   "outputs": [],
   "source": [
    "id=\"categ-count\""
   ]
  }
 ],
 "metadata": {
  "kernelspec": {
   "display_name": "Python 3",
   "language": "python",
   "name": "python3"
  },
  "language_info": {
   "codemirror_mode": {
    "name": "ipython",
    "version": 3
   },
   "file_extension": ".py",
   "mimetype": "text/x-python",
   "name": "python",
   "nbconvert_exporter": "python",
   "pygments_lexer": "ipython3",
   "version": "3.7.1"
  }
 },
 "nbformat": 4,
 "nbformat_minor": 5
}
