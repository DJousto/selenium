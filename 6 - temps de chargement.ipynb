{
 "cells": [
  {
   "cell_type": "code",
   "execution_count": 2,
   "id": "66dcab30",
   "metadata": {},
   "outputs": [
    {
     "name": "stdout",
     "output_type": "stream",
     "text": [
      "Back End: 132 ms\n",
      "Front End: 1425 ms\n"
     ]
    }
   ],
   "source": [
    "from selenium import webdriver\n",
    "driver = webdriver.Chrome()\n",
    "driver.get(\"https://www.divid.fr\")\n",
    "\n",
    "\n",
    "navigationStart = driver.execute_script(\"return window.performance.timing.navigationStart\")\n",
    "responseStart = driver.execute_script(\"return window.performance.timing.responseStart\")\n",
    "domComplete = driver.execute_script(\"return window.performance.timing.domComplete\")\n",
    "\n",
    "''' Calculate the performance'''\n",
    "backendPerformance_calc = responseStart - navigationStart\n",
    "frontendPerformance_calc = domComplete - responseStart\n",
    " \n",
    "print(\"Back End: %s ms\" % backendPerformance_calc)\n",
    "print(\"Front End: %s ms\" % frontendPerformance_calc)\n",
    " \n",
    "driver.quit()\n"
   ]
  },
  {
   "cell_type": "code",
   "execution_count": null,
   "id": "18019d2b",
   "metadata": {},
   "outputs": [],
   "source": []
  }
 ],
 "metadata": {
  "kernelspec": {
   "display_name": "Python 3",
   "language": "python",
   "name": "python3"
  },
  "language_info": {
   "codemirror_mode": {
    "name": "ipython",
    "version": 3
   },
   "file_extension": ".py",
   "mimetype": "text/x-python",
   "name": "python",
   "nbconvert_exporter": "python",
   "pygments_lexer": "ipython3",
   "version": "3.7.1"
  }
 },
 "nbformat": 4,
 "nbformat_minor": 5
}
